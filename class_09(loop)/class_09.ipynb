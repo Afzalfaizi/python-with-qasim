{
 "cells": [
  {
   "cell_type": "markdown",
   "metadata": {},
   "source": [
    "# Loop and input from user\n",
    "* while loop\n",
    "* for loop\n",
    "* controls\n",
    "    * break\n",
    "    * continue\n",
    "    * pass"
   ]
  },
  {
   "cell_type": "code",
   "execution_count": 4,
   "metadata": {},
   "outputs": [
    {
     "name": "stdout",
     "output_type": "stream",
     "text": [
      "1\n",
      "2\n",
      "3\n",
      "4\n",
      "5\n",
      "6\n"
     ]
    }
   ],
   "source": [
    "l1 : list[int] = [1,2,3,4,5,6]\n",
    "\n",
    "for n in l1:\n",
    "    print(n)"
   ]
  },
  {
   "cell_type": "code",
   "execution_count": 5,
   "metadata": {},
   "outputs": [
    {
     "name": "stdout",
     "output_type": "stream",
     "text": [
      "current number is :1\n",
      "current number is :2\n",
      "current number is :3\n",
      "current number is :4\n",
      "current number is :5\n",
      "current number is :6\n"
     ]
    }
   ],
   "source": [
    "l1 : list[int] = [1,2,3,4,5,6]\n",
    "\n",
    "for n in l1:\n",
    "    print(f\"current number is :{n}\")"
   ]
  },
  {
   "cell_type": "code",
   "execution_count": 1,
   "metadata": {},
   "outputs": [
    {
     "name": "stdout",
     "output_type": "stream",
     "text": [
      "current Number:1\n",
      "current Number:2\n",
      "current Number:3\n",
      "current Number:4\n",
      "current Number:5\n",
      "current Number:6\n"
     ]
    }
   ],
   "source": [
    "l1 : list[int] = [1,2,3,4,5,6]\n",
    "\n",
    "for n in l1:\n",
    "    print(f\"current Number:{n}\")"
   ]
  },
  {
   "cell_type": "code",
   "execution_count": 5,
   "metadata": {},
   "outputs": [
    {
     "name": "stdout",
     "output_type": "stream",
     "text": [
      "Dictionary key name and value is Muhammad Afzal\n",
      "Dictionary key fname and value is Iqbal Yousaf\n"
     ]
    }
   ],
   "source": [
    "# Iteration  perform on keys\n",
    "l1 : dict[str,str] = {\"name\":\"Muhammad Afzal\", \"fname\":\"Iqbal Yousaf\"}\n",
    "\n",
    "for k in l1:\n",
    "    print(f\"Dictionary key {k} and value is {l1[k]}\")"
   ]
  },
  {
   "cell_type": "markdown",
   "metadata": {},
   "source": [
    "# input from user\n",
    "* input function\n",
    "  * default type = string  \n",
    "* sys.argv (for console input in abc.py file)\n",
    "  * default type = object"
   ]
  },
  {
   "cell_type": "code",
   "execution_count": 7,
   "metadata": {},
   "outputs": [
    {
     "name": "stdout",
     "output_type": "stream",
     "text": [
      "<class 'str'>\n",
      "Welcome dear User Mr/Miss Muhammad Afzal!\n"
     ]
    }
   ],
   "source": [
    "name : str = input(\"What is your name? : \\t\")\n",
    "\n",
    "print(type(name))\n",
    "\n",
    "print(f\"Welcome dear User Mr/Miss {name}!\")"
   ]
  },
  {
   "cell_type": "code",
   "execution_count": 4,
   "metadata": {},
   "outputs": [
    {
     "name": "stdout",
     "output_type": "stream",
     "text": [
      "Muhammad Afzal is 26 years old and his father's name is Iqbal Yousaf\n",
      "Talha Yaseen is 20 years old and his father's name is M.Yaseen\n",
      "M.Noman is 27 years old and his father's name is Abdul Sattar\n"
     ]
    }
   ],
   "source": [
    "names : list[str] = [\"Muhammad Afzal\",\"Talha Yaseen\",\"M.Noman\"]\n",
    "fnames : list[str] = [\"Iqbal Yousaf\", \"M.Yaseen\", \"Abdul Sattar\"]\n",
    "ages : list[int] = [26, 20, 27]\n",
    "list(zip(names,fnames,ages))\n",
    "\n",
    "for n, fn, age in zip(names,fnames,ages):\n",
    "    print(f\"{n} is {age} years old and his father's name is {fn}\")"
   ]
  },
  {
   "cell_type": "markdown",
   "metadata": {},
   "source": [
    "# While Loop\n",
    "```\n",
    "while logic: # True/False\n",
    "  loop_body\n",
    "```\n"
   ]
  },
  {
   "cell_type": "code",
   "execution_count": 5,
   "metadata": {},
   "outputs": [
    {
     "name": "stdout",
     "output_type": "stream",
     "text": [
      "Current Number is : 0\n",
      "Current Number is : 1\n",
      "Current Number is : 2\n",
      "Current Number is : 3\n",
      "Current Number is : 4\n",
      "Current Number is : 5\n",
      "Current Number is : 6\n",
      "Current Number is : 7\n",
      "Current Number is : 8\n",
      "Current Number is : 9\n"
     ]
    }
   ],
   "source": [
    "flag : bool = True\n",
    "\n",
    "current_number : int = 0\n",
    "\n",
    "while flag:\n",
    "    print(f\"Current Number is : {current_number}\")\n",
    "    current_number += 1\n",
    "    if current_number == 10:\n",
    "        break"
   ]
  },
  {
   "cell_type": "code",
   "execution_count": 7,
   "metadata": {},
   "outputs": [
    {
     "name": "stdout",
     "output_type": "stream",
     "text": [
      "current index is :0 and list value is 100\n",
      "current index is :1 and list value is 200\n",
      "current index is :2 and list value is 300\n"
     ]
    }
   ],
   "source": [
    "l1: list[int] = [100,200,300]\n",
    "\n",
    "index : int = 0\n",
    "while index < len(l1):\n",
    "    print(f\"current index is :{index} and list value is {l1[index]}\")\n",
    "    index += 1"
   ]
  },
  {
   "cell_type": "code",
   "execution_count": 12,
   "metadata": {},
   "outputs": [
    {
     "name": "stdout",
     "output_type": "stream",
     "text": [
      "write quite or exit to stop this program\n",
      "write quite or exit to stop this program\n",
      "write quite or exit to stop this program\n",
      "write quite or exit to stop this program\n"
     ]
    },
    {
     "data": {
      "text/plain": [
       "[{'name': 'Muhammad Afzal', 'eduction': 'BSC'},\n",
       " {'name': 'Talha Yaseen', 'eduction': 'FSC'},\n",
       " {'name': 'Mian  Haroon', 'eduction': 'FSC'}]"
      ]
     },
     "metadata": {},
     "output_type": "display_data"
    }
   ],
   "source": [
    "data : list[dict[str,str]] = []\n",
    "\n",
    "flag : bool = True\n",
    "\n",
    "while flag:\n",
    "    print(\"write quite or exit to stop this program\")\n",
    "    name : str = input(\"Your good name? \\t\")\n",
    "    eduction : str = input(\"Your last education? \\t\")\n",
    "\n",
    "    if name in ['exit', 'quite', 'close', 'stop'] or eduction in ['exit', 'quite', 'close', 'stop']:\n",
    "        flag=False\n",
    "        break\n",
    "    data.append({\"name\":name,\"eduction\":eduction,})\n",
    "display(data)\n",
    "    "
   ]
  },
  {
   "cell_type": "markdown",
   "metadata": {},
   "source": [
    "# Controls\n",
    "* break\n",
    "* continue\n",
    "* pass"
   ]
  },
  {
   "cell_type": "code",
   "execution_count": 2,
   "metadata": {},
   "outputs": [
    {
     "name": "stdout",
     "output_type": "stream",
     "text": [
      "1\n",
      "2\n",
      "3\n",
      "4\n",
      "5\n"
     ]
    }
   ],
   "source": [
    "for i in range(1,11):\n",
    "    print(i)\n",
    "    if i == 5:\n",
    "        break"
   ]
  },
  {
   "cell_type": "code",
   "execution_count": null,
   "metadata": {},
   "outputs": [],
   "source": []
  }
 ],
 "metadata": {
  "kernelspec": {
   "display_name": ".venv",
   "language": "python",
   "name": "python3"
  },
  "language_info": {
   "codemirror_mode": {
    "name": "ipython",
    "version": 3
   },
   "file_extension": ".py",
   "mimetype": "text/x-python",
   "name": "python",
   "nbconvert_exporter": "python",
   "pygments_lexer": "ipython3",
   "version": "3.12.4"
  }
 },
 "nbformat": 4,
 "nbformat_minor": 2
}
