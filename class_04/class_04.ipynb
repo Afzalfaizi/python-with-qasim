{
 "cells": [
  {
   "cell_type": "markdown",
   "metadata": {},
   "source": [
    "# List & its methods"
   ]
  },
  {
   "cell_type": "code",
   "execution_count": 4,
   "metadata": {},
   "outputs": [
    {
     "name": "stdout",
     "output_type": "stream",
     "text": [
      "['qasim', 'naveed', 'ali']\n",
      "ALI\n",
      "founder of techloset solution Naveed\n"
     ]
    }
   ],
   "source": [
    "# List and Its methods\n",
    "from typing import Any\n",
    "myList : list[Any] = [\"qasim\",\"naveed\",\"ali\"]\n",
    "print(myList)\n",
    "print(myList[2].upper())\n",
    "print(f'founder of techloset solution {myList[1].title()}')\n"
   ]
  },
  {
   "cell_type": "markdown",
   "metadata": {},
   "source": [
    "# slicing\n",
    " * slicing  is a powerful feature of python that allows us to access parts of an object.  It can be used on strings, lists and tuples.  \n",
    " * slicing is always go left to right\n",
    " * slicing method\n",
    "    * variable name [start:end]  - it will return values from start index to end-1 index value.\n",
    "    * if we don't provide any value for start or end then it will consider as None which means take all the elements till the end of list/string.*/\n",
    "    * [start:end:step]"
   ]
  },
  {
   "cell_type": "code",
   "execution_count": 3,
   "metadata": {},
   "outputs": [
    {
     "name": "stdout",
     "output_type": "stream",
     "text": [
      "['b', 'd', 'f']\n",
      "Here are the first three characters of my list:\n",
      "a\n",
      "b\n",
      "c\n"
     ]
    }
   ],
   "source": [
    "# slicing\n",
    "character : list[str] = [ 'a', 'b', 'c', 'd', 'e', 'f', 'g' ]\n",
    "print( character[1::2] )  \n",
    "\n",
    "# looping through slicing\n",
    "print(\"Here are the first three characters of my list:\")\n",
    "for  char in character[:3]:    \n",
    "    print(char)     "
   ]
  }
 ],
 "metadata": {
  "kernelspec": {
   "display_name": "py12",
   "language": "python",
   "name": "python3"
  },
  "language_info": {
   "codemirror_mode": {
    "name": "ipython",
    "version": 3
   },
   "file_extension": ".py",
   "mimetype": "text/x-python",
   "name": "python",
   "nbconvert_exporter": "python",
   "pygments_lexer": "ipython3",
   "version": "3.12.0"
  }
 },
 "nbformat": 4,
 "nbformat_minor": 2
}
