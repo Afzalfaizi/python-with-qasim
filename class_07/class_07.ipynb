{
 "cells": [
  {
   "cell_type": "markdown",
   "metadata": {},
   "source": [
    "# Dictionary In Python\n",
    "* Dictionary is a collection of key-value pairs.\n",
    "* It is mutable data type, means we can modify it after creation.\n",
    "* It is unordered data type, means the order of items is not preserved."
   ]
  },
  {
   "cell_type": "code",
   "execution_count": null,
   "metadata": {
    "vscode": {
     "languageId": "plaintext"
    }
   },
   "outputs": [],
   "source": []
  }
 ],
 "metadata": {
  "language_info": {
   "name": "python"
  }
 },
 "nbformat": 4,
 "nbformat_minor": 2
}
