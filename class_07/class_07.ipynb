{
 "cells": [
  {
   "cell_type": "markdown",
   "metadata": {},
   "source": [
    "# Dictionary In Python\n",
    "* Dictionary is a collection of key-value pairs.\n",
    "* It is mutable data type, means we can modify it after creation.\n",
    "* It is unordered data type, means the order of items is not preserved."
   ]
  },
  {
   "cell_type": "code",
   "execution_count": 13,
   "metadata": {},
   "outputs": [
    {
     "name": "stdout",
     "output_type": "stream",
     "text": [
      "{'name': 'John', 'age': '30', 'city': 'New York'}\n"
     ]
    }
   ],
   "source": [
    "from typing import Dict \n",
    "data : Dict[str,str] = {\n",
    "    \"name\" : \"John\",\n",
    "    \"age\" : \"30\",\n",
    "    \"city\" : \"New York\"\n",
    "}\n",
    "print(data)"
   ]
  },
  {
   "cell_type": "code",
   "execution_count": 14,
   "metadata": {},
   "outputs": [
    {
     "name": "stdout",
     "output_type": "stream",
     "text": [
      "{'age': 26,\n",
      " 'city': 'Nankana Sahib',\n",
      " 'country': 'Pakistan',\n",
      " 'education': 'Masters in Computer Science',\n",
      " 'hobbies': {'writing', 'coding', 'reading'},\n",
      " 'name': 'Muhammad Afzal'}\n",
      "{'writing', 'coding', 'reading'}\n",
      "26\n"
     ]
    }
   ],
   "source": [
    "from typing import Dict, Union, Optional\n",
    "import pprint\n",
    "\n",
    "key = Union[int, str] # Create Custom type\n",
    "value = Union[int, str, dict, set, tuple]\n",
    "\n",
    "data : Dict[key,value] = {\n",
    "    \"name\" : \"Muhammad Afzal\",\n",
    "    \"age\" :     26,\n",
    "    \"city\" : \"Nankana Sahib\",\n",
    "    \"country\" : \"Pakistan\",\n",
    "    \"hobbies\" : {\"reading\", \"writing\", \"coding\"},\n",
    "    \"education\" : \"Masters in Computer Science\"\n",
    "}\n",
    "pprint.pprint(data)\n",
    "print(data[\"hobbies\"])\n",
    "print(data[\"age\"])"
   ]
  },
  {
   "cell_type": "code",
   "execution_count": 12,
   "metadata": {},
   "outputs": [
    {
     "name": "stdout",
     "output_type": "stream",
     "text": [
      "{'age': 26,\n",
      " 'city': 'Nankana Sahib',\n",
      " 'country': 'Pakistan',\n",
      " 'education': 'Masters in Computer Science',\n",
      " 'hobbies': {'writing', 'coding', 'reading'},\n",
      " 'name': 'Muhammad Afzal'}\n",
      "{'age': 26,\n",
      " 'city': 'Nankana Sahib',\n",
      " 'country': 'Pakistan',\n",
      " 'education': 'Masters in Computer Science',\n",
      " 'hobbies': {'writing', 'coding', 'reading'},\n",
      " 'name': 'Faizi Developer'}\n"
     ]
    }
   ],
   "source": [
    "data : Dict[key,value] = {\n",
    "    \"name\" : \"Muhammad Afzal\",\n",
    "    \"age\" :     26,\n",
    "    \"city\" : \"Nankana Sahib\",\n",
    "    \"country\" : \"Pakistan\",\n",
    "    \"hobbies\" : {\"reading\", \"writing\", \"coding\"},\n",
    "    \"education\" : \"Masters in Computer Science\"\n",
    "}\n",
    "pprint.pprint(data)\n",
    "data['name'] = \"Faizi Developer\" # Update Method\n",
    "pprint.pprint(data)\n"
   ]
  },
  {
   "cell_type": "code",
   "execution_count": 18,
   "metadata": {},
   "outputs": [
    {
     "name": "stdout",
     "output_type": "stream",
     "text": [
      "{'age': 26,\n",
      " 'city': 'Nankana Sahib',\n",
      " 'country': 'Pakistan',\n",
      " 'education': 'Masters in Computer Science',\n",
      " 'hobbies': {'writing', 'coding', 'reading'},\n",
      " 'name': 'Faizi Developer'}\n",
      "Not Available\n",
      "Faizi Developer\n"
     ]
    }
   ],
   "source": [
    "data : Dict[key,value] = {\n",
    "    \"name\" : \"Muhammad Afzal\",\n",
    "    \"age\" :     26,\n",
    "    \"city\" : \"Nankana Sahib\",\n",
    "    \"country\" : \"Pakistan\",\n",
    "    \"hobbies\" : {\"reading\", \"writing\", \"coding\"},\n",
    "    \"education\" : \"Masters in Computer Science\"\n",
    "}\n",
    "data['name'] = \"Faizi Developer\" # Update Method\n",
    "pprint.pprint(data)\n",
    "\n",
    "[i for i in dir(data) if \"__\" not in i] # Dictionary Methods\n",
    "print(data.get(\"Pakistan\", \"Not Available\")) # get method k zariye agr koi key majood hai to os ki value ly aye ga or agr koi majood nahi hy to error generate nahi hony dy ga.\n",
    "print(data.get(\"name\"))\n"
   ]
  },
  {
   "cell_type": "code",
   "execution_count": 20,
   "metadata": {},
   "outputs": [
    {
     "name": "stdout",
     "output_type": "stream",
     "text": [
      "{'age': 26,\n",
      " 'city': 'Nankana Sahib',\n",
      " 'country': 'Pakistan',\n",
      " 'education': 'Masters in Computer Science',\n",
      " 'hobbies': {'writing', 'coding', 'reading'},\n",
      " 'name': 'Muhammad Afzal'}\n",
      "name\n",
      "age\n",
      "city\n",
      "country\n",
      "hobbies\n",
      "education\n"
     ]
    }
   ],
   "source": [
    "data : Dict[key,value] = {\n",
    "    \"name\" : \"Muhammad Afzal\",\n",
    "    \"age\" :     26,\n",
    "    \"city\" : \"Nankana Sahib\",\n",
    "    \"country\" : \"Pakistan\",\n",
    "    \"hobbies\" : {\"reading\", \"writing\", \"coding\"},\n",
    "    \"education\" : \"Masters in Computer Science\"\n",
    "}\n",
    "pprint.pprint(data)\n",
    "for d in data:\n",
    "    print(d) # this will print keys \n",
    "\n"
   ]
  }
 ],
 "metadata": {
  "kernelspec": {
   "display_name": "python3.12",
   "language": "python",
   "name": "python3"
  },
  "language_info": {
   "codemirror_mode": {
    "name": "ipython",
    "version": 3
   },
   "file_extension": ".py",
   "mimetype": "text/x-python",
   "name": "python",
   "nbconvert_exporter": "python",
   "pygments_lexer": "ipython3",
   "version": "3.12.0"
  }
 },
 "nbformat": 4,
 "nbformat_minor": 2
}
