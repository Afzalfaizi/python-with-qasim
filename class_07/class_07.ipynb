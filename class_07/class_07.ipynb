{
 "cells": [
  {
   "cell_type": "markdown",
   "metadata": {},
   "source": [
    "# Dictionary In Python\n",
    "* Dictionary is a collection of key-value pairs.\n",
    "* It is mutable data type, means we can modify it after creation.\n",
    "* It is unordered data type, means the order of items is not preserved."
   ]
  },
  {
   "cell_type": "code",
   "execution_count": 4,
   "metadata": {},
   "outputs": [
    {
     "name": "stdout",
     "output_type": "stream",
     "text": [
      "{'name': 'John', 'age': '30', 'city': 'New York'}\n"
     ]
    }
   ],
   "source": [
    "from typing import Dict \n",
    "data : Dict[str,str] = {\n",
    "    \"name\" : \"John\",\n",
    "    \"age\" : \"30\",\n",
    "    \"city\" : \"New York\"\n",
    "}\n",
    "print(data)"
   ]
  },
  {
   "cell_type": "code",
   "execution_count": 7,
   "metadata": {},
   "outputs": [
    {
     "name": "stdout",
     "output_type": "stream",
     "text": [
      "{'age': 26,\n",
      " 'city': 'Nankana Sahib',\n",
      " 'country': 'Pakistan',\n",
      " 'education': 'Masters in Computer Science',\n",
      " 'hobbies': {'writing', 'coding', 'reading'},\n",
      " 'name': 'Muhammad Afzal'}\n"
     ]
    }
   ],
   "source": [
    "from typing import Dict, Union, Optional\n",
    "import pprint\n",
    "\n",
    "key = Union[int, str] # Create Custom type\n",
    "value = Union[int, str, dict, set, tuple]\n",
    "\n",
    "data : Dict[key,value] = {\n",
    "    \"name\" : \"Muhammad Afzal\",\n",
    "    \"age\" :     26,\n",
    "    \"city\" : \"Nankana Sahib\",\n",
    "    \"country\" : \"Pakistan\",\n",
    "    \"hobbies\" : {\"reading\", \"writing\", \"coding\"},\n",
    "    \"education\" : \"Masters in Computer Science\"\n",
    "}\n",
    "pprint.pprint(data)"
   ]
  }
 ],
 "metadata": {
  "kernelspec": {
   "display_name": "python3.12",
   "language": "python",
   "name": "python3"
  },
  "language_info": {
   "codemirror_mode": {
    "name": "ipython",
    "version": 3
   },
   "file_extension": ".py",
   "mimetype": "text/x-python",
   "name": "python",
   "nbconvert_exporter": "python",
   "pygments_lexer": "ipython3",
   "version": "3.12.0"
  }
 },
 "nbformat": 4,
 "nbformat_minor": 2
}
