{
 "cells": [
  {
   "cell_type": "code",
   "execution_count": 3,
   "metadata": {},
   "outputs": [
    {
     "name": "stdout",
     "output_type": "stream",
     "text": [
      "{'age': 26,\n",
      " 'city': 'Nankana Sahib',\n",
      " 'country': 'Pakistan',\n",
      " 'education': 'Masters in Computer Science',\n",
      " 'hobbies': {'writing', 'coding', 'reading'},\n",
      " 'name': 'Muhammad Afzal'}\n",
      "{'writing', 'coding', 'reading'}\n",
      "26\n"
     ]
    }
   ],
   "source": [
    "from typing import Dict, Union, Optional\n",
    "import pprint\n",
    "\n",
    "key = Union[int, str] # Create Custom type\n",
    "value = Union[int, str, dict, set, tuple]\n",
    "\n",
    "data : Dict[key,value] = {\n",
    "    \"name\" : \"Muhammad Afzal\",\n",
    "    \"age\" :     26,\n",
    "    \"city\" : \"Nankana Sahib\",\n",
    "    \"country\" : \"Pakistan\",\n",
    "    \"hobbies\" : {\"reading\", \"writing\", \"coding\"},\n",
    "    \"education\" : \"Masters in Computer Science\"\n",
    "}\n",
    "pprint.pprint(data)\n",
    "print(data[\"hobbies\"])\n",
    "print(data[\"age\"])"
   ]
  },
  {
   "cell_type": "markdown",
   "metadata": {},
   "source": [
    "# Dictionary Methods\n",
    "* 1. clear() - removes all the elements from the dictionary\n",
    "* 2. copy() - returns a copy of the dictionary\n",
    "* 3. fromkeys() - creates a new dictionary from the given key-value pairs\n",
    "* 4. get() - returns the value of the specified key\n",
    "* 5. items() - returns a view object that displays a list of dictionary'\n",
    "* 6. keys() - returns a list of all the available keys in the dictionary\n",
    "* 7. pop() - removes the element with the specified key\n",
    "* 8. popitem() - removes the last inserted key-value pair\n",
    "* 9. setdefault() - returns the value of the specified key. If the key does\n",
    "* 10. update() - updates the dictionary with the specified key-value pairs\n",
    "* 11. values() - returns a list of all the values in the dictionary"
   ]
  },
  {
   "cell_type": "code",
   "execution_count": 6,
   "metadata": {},
   "outputs": [
    {
     "name": "stdout",
     "output_type": "stream",
     "text": [
      "before {'name': 'Muhammad Afzal', 'age': 26, 'city': 'Nankana Sahib', 'country': 'Pakistan', 'hobbies': {'coding', 'reading', 'writing'}, 'education': 'Masters in Computer Science'}\n",
      "After {}\n",
      "['clear', 'copy', 'fromkeys', 'get', 'items', 'keys', 'pop', 'popitem', 'setdefault', 'update', 'values']\n"
     ]
    }
   ],
   "source": [
    "from typing import Dict, Union, Optional\n",
    "import pprint\n",
    "\n",
    "key = Union[int, str] # Create Custom type\n",
    "value = Union[int, str, dict, set, tuple]\n",
    "\n",
    "data : Dict[key,value] = {\n",
    "    \"name\" : \"Muhammad Afzal\",\n",
    "    \"age\" :     26,\n",
    "    \"city\" : \"Nankana Sahib\",\n",
    "    \"country\" : \"Pakistan\",\n",
    "    \"hobbies\" : {\"reading\", \"writing\", \"coding\"},\n",
    "    \"education\" : \"Masters in Computer Science\"\n",
    "}\n",
    "\n",
    "print(\"before\",data)\n",
    "data.clear()\n",
    "print(\"After\", data)\n",
    "\n",
    "methods : list[str] = [m for m in dir(data) if \"__\" not in m]\n",
    "print(methods)"
   ]
  },
  {
   "cell_type": "code",
   "execution_count": 11,
   "metadata": {},
   "outputs": [
    {
     "name": "stdout",
     "output_type": "stream",
     "text": [
      "before {'name': 'Muhammad Afzal', 'age': 26, 'city': 'Nankana Sahib', 'country': 'Pakistan', 'hobbies': {'coding', 'reading', 'writing'}, 'education': 'Masters in Computer Science'}\n",
      "('education', 'Masters in Computer Science')\n",
      "After {'name': 'Muhammad Afzal', 'age': 26, 'city': 'Nankana Sahib', 'country': 'Pakistan', 'hobbies': {'coding', 'reading', 'writing'}}\n"
     ]
    }
   ],
   "source": [
    "from typing import Dict, Union, Optional\n",
    "import pprint\n",
    "\n",
    "key = Union[int, str] # Create Custom type\n",
    "value = Union[int, str, dict, set, tuple]\n",
    "\n",
    "data : Dict[key,value] = {\n",
    "    \"name\" : \"Muhammad Afzal\",\n",
    "    \"age\" :     26,\n",
    "    \"city\" : \"Nankana Sahib\",\n",
    "    \"country\" : \"Pakistan\",\n",
    "    \"hobbies\" : {\"reading\", \"writing\", \"coding\"},\n",
    "    \"education\" : \"Masters in Computer Science\"\n",
    "}\n",
    "\n",
    "print(\"before\",data)\n",
    "a : str = data.popitem()\n",
    "print(a)\n",
    "print(\"After\", data)\n"
   ]
  },
  {
   "cell_type": "code",
   "execution_count": 5,
   "metadata": {},
   "outputs": [
    {
     "data": {
      "text/plain": [
       "{'name': 'Faizi Developer',\n",
       " 'age': 26,\n",
       " 'city': 'Shahkot',\n",
       " 'country': 'Pakistan',\n",
       " 'hobbies': {'coding', 'reading', 'traveling', 'writing'},\n",
       " 'education': 'Masters in Data Science'}"
      ]
     },
     "execution_count": 5,
     "metadata": {},
     "output_type": "execute_result"
    }
   ],
   "source": [
    "from typing import Dict, Union, Optional\n",
    "import pprint\n",
    "\n",
    "key = Union[int, str] # Create Custom type\n",
    "value = Union[int, str, dict, set, tuple]\n",
    "\n",
    "data : Dict[key,value] = {\n",
    "    \"name\" : \"Muhammad Afzal\",\n",
    "    \"age\" :     26,\n",
    "    \"city\" : \"Nankana Sahib\",\n",
    "    \"country\" : \"Pakistan\",\n",
    "    \"hobbies\" : {\"reading\", \"writing\", \"coding\"},\n",
    "    \"education\" : \"Masters in Computer Science\"\n",
    "}\n",
    "\n",
    "data1 : Dict[key, value] ={\n",
    "    \"name\" : \"Faizi Developer\",\n",
    "    \"age\" : 26,\n",
    "    \"city\" : \"Shahkot\",\n",
    "    \"country\" : \"Pakistan\",\n",
    "    \"hobbies\" : {\"reading\", \"writing\", \"coding\", \"traveling\"},\n",
    "    \"education\" : \"Masters in Data Science\"\n",
    "}\n",
    "\n",
    "data.update(data1) # this will updata all Data \n",
    "data\n"
   ]
  },
  {
   "cell_type": "code",
   "execution_count": 7,
   "metadata": {},
   "outputs": [
    {
     "data": {
      "text/html": [
       "<div>\n",
       "<style scoped>\n",
       "    .dataframe tbody tr th:only-of-type {\n",
       "        vertical-align: middle;\n",
       "    }\n",
       "\n",
       "    .dataframe tbody tr th {\n",
       "        vertical-align: top;\n",
       "    }\n",
       "\n",
       "    .dataframe thead th {\n",
       "        text-align: right;\n",
       "    }\n",
       "</style>\n",
       "<table border=\"1\" class=\"dataframe\">\n",
       "  <thead>\n",
       "    <tr style=\"text-align: right;\">\n",
       "      <th></th>\n",
       "      <th>roll no</th>\n",
       "      <th>name</th>\n",
       "      <th>age</th>\n",
       "      <th>city</th>\n",
       "      <th>education</th>\n",
       "    </tr>\n",
       "  </thead>\n",
       "  <tbody>\n",
       "    <tr>\n",
       "      <th>0</th>\n",
       "      <td>1</td>\n",
       "      <td>Muhammad Afzal</td>\n",
       "      <td>26</td>\n",
       "      <td>Nankana Sahib</td>\n",
       "      <td>Masters</td>\n",
       "    </tr>\n",
       "    <tr>\n",
       "      <th>1</th>\n",
       "      <td>2</td>\n",
       "      <td>Iqbal Yousaf</td>\n",
       "      <td>52</td>\n",
       "      <td>Nankana Sahib</td>\n",
       "      <td>Matric</td>\n",
       "    </tr>\n",
       "    <tr>\n",
       "      <th>2</th>\n",
       "      <td>3</td>\n",
       "      <td>Ali</td>\n",
       "      <td>15</td>\n",
       "      <td>Nankana Sahib</td>\n",
       "      <td>Matric</td>\n",
       "    </tr>\n",
       "  </tbody>\n",
       "</table>\n",
       "</div>"
      ],
      "text/plain": [
       "   roll no            name  age           city education\n",
       "0        1  Muhammad Afzal   26  Nankana Sahib   Masters\n",
       "1        2    Iqbal Yousaf   52  Nankana Sahib    Matric\n",
       "2        3             Ali   15  Nankana Sahib    Matric"
      ]
     },
     "execution_count": 7,
     "metadata": {},
     "output_type": "execute_result"
    }
   ],
   "source": [
    "import pandas as pd\n",
    "from typing import Any, Dict\n",
    "\n",
    "students_data : Dict[str, list[Any]] = {\n",
    "    \"roll no\" : [1,2,3],\n",
    "    \"name\" : [\"Muhammad Afzal\", \"Iqbal Yousaf\", \"Ali\"],\n",
    "    \"age\" : [26, 52, 15],\n",
    "    \"city\" : [\"Nankana Sahib\", \"Nankana Sahib\", \"Nankana Sahib\"],\n",
    "    \"education\" : [\"Masters\", \"Matric\", \"Matric\"]\n",
    "}\n",
    "\n",
    "df : pd.DataFrame = pd.DataFrame(students_data)\n",
    "df"
   ]
  },
  {
   "cell_type": "code",
   "execution_count": 1,
   "metadata": {},
   "outputs": [
    {
     "name": "stdout",
     "output_type": "stream",
     "text": [
      " Haroon's favorite language is Python.\n"
     ]
    }
   ],
   "source": [
    "favorite_languages = {\n",
    " 'faizi': 'python',\n",
    " 'being': 'nextjs',\n",
    " 'ahsan': 'C++',\n",
    " 'haroon': 'python',\n",
    " }\n",
    "language = favorite_languages['haroon'].title()\n",
    "print(f\" Haroon's favorite language is {language}.\")"
   ]
  }
 ],
 "metadata": {
  "kernelspec": {
   "display_name": "Python 3",
   "language": "python",
   "name": "python3"
  },
  "language_info": {
   "codemirror_mode": {
    "name": "ipython",
    "version": 3
   },
   "file_extension": ".py",
   "mimetype": "text/x-python",
   "name": "python",
   "nbconvert_exporter": "python",
   "pygments_lexer": "ipython3",
   "version": "3.12.4"
  }
 },
 "nbformat": 4,
 "nbformat_minor": 2
}
