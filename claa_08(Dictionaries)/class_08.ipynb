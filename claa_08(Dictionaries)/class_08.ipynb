{
 "cells": [
  {
   "cell_type": "code",
   "execution_count": 1,
   "metadata": {},
   "outputs": [
    {
     "name": "stdout",
     "output_type": "stream",
     "text": [
      "{'age': 26,\n",
      " 'city': 'Nankana Sahib',\n",
      " 'country': 'Pakistan',\n",
      " 'education': 'Masters in Computer Science',\n",
      " 'hobbies': {'coding', 'reading', 'writing'},\n",
      " 'name': 'Muhammad Afzal'}\n",
      "{'coding', 'reading', 'writing'}\n",
      "26\n"
     ]
    }
   ],
   "source": [
    "from typing import Dict, Union, Optional\n",
    "import pprint\n",
    "\n",
    "key = Union[int, str] # Create Custom type\n",
    "value = Union[int, str, dict, set, tuple]\n",
    "\n",
    "data : Dict[key,value] = {\n",
    "    \"name\" : \"Muhammad Afzal\",\n",
    "    \"age\" :     26,\n",
    "    \"city\" : \"Nankana Sahib\",\n",
    "    \"country\" : \"Pakistan\",\n",
    "    \"hobbies\" : {\"reading\", \"writing\", \"coding\"},\n",
    "    \"education\" : \"Masters in Computer Science\"\n",
    "}\n",
    "pprint.pprint(data)\n",
    "print(data[\"hobbies\"])\n",
    "print(data[\"age\"])"
   ]
  },
  {
   "cell_type": "markdown",
   "metadata": {},
   "source": [
    "# Dictionary Methods\n",
    "* 1. clear() - removes all the elements from the dictionary\n",
    "* 2. copy() - returns a copy of the dictionary\n",
    "* 3. fromkeys() - creates a new dictionary from the given key-value pairs\n",
    "* 4. get() - returns the value of the specified key\n",
    "* 5. items() - returns a view object that displays a list of dictionary'\n",
    "* 6. keys() - returns a list of all the available keys in the dictionary\n",
    "* 7. pop() - removes the element with the specified key\n",
    "* 8. popitem() - removes the last inserted key-value pair\n",
    "* 9. setdefault() - returns the value of the specified key. If the key does\n",
    "* 10. update() - updates the dictionary with the specified key-value pairs\n",
    "* 11. values() - returns a list of all the values in the dictionary"
   ]
  },
  {
   "cell_type": "code",
   "execution_count": 6,
   "metadata": {},
   "outputs": [
    {
     "name": "stdout",
     "output_type": "stream",
     "text": [
      "before {'name': 'Muhammad Afzal', 'age': 26, 'city': 'Nankana Sahib', 'country': 'Pakistan', 'hobbies': {'coding', 'reading', 'writing'}, 'education': 'Masters in Computer Science'}\n",
      "After {}\n",
      "['clear', 'copy', 'fromkeys', 'get', 'items', 'keys', 'pop', 'popitem', 'setdefault', 'update', 'values']\n"
     ]
    }
   ],
   "source": [
    "from typing import Dict, Union, Optional\n",
    "import pprint\n",
    "\n",
    "key = Union[int, str] # Create Custom type\n",
    "value = Union[int, str, dict, set, tuple]\n",
    "\n",
    "data : Dict[key,value] = {\n",
    "    \"name\" : \"Muhammad Afzal\",\n",
    "    \"age\" :     26,\n",
    "    \"city\" : \"Nankana Sahib\",\n",
    "    \"country\" : \"Pakistan\",\n",
    "    \"hobbies\" : {\"reading\", \"writing\", \"coding\"},\n",
    "    \"education\" : \"Masters in Computer Science\"\n",
    "}\n",
    "\n",
    "print(\"before\",data)\n",
    "data.clear()\n",
    "print(\"After\", data)\n",
    "\n",
    "methods : list[str] = [m for m in dir(data) if \"__\" not in m]\n",
    "print(methods)"
   ]
  },
  {
   "cell_type": "code",
   "execution_count": 11,
   "metadata": {},
   "outputs": [
    {
     "name": "stdout",
     "output_type": "stream",
     "text": [
      "before {'name': 'Muhammad Afzal', 'age': 26, 'city': 'Nankana Sahib', 'country': 'Pakistan', 'hobbies': {'coding', 'reading', 'writing'}, 'education': 'Masters in Computer Science'}\n",
      "('education', 'Masters in Computer Science')\n",
      "After {'name': 'Muhammad Afzal', 'age': 26, 'city': 'Nankana Sahib', 'country': 'Pakistan', 'hobbies': {'coding', 'reading', 'writing'}}\n"
     ]
    }
   ],
   "source": [
    "from typing import Dict, Union, Optional\n",
    "import pprint\n",
    "\n",
    "key = Union[int, str] # Create Custom type\n",
    "value = Union[int, str, dict, set, tuple]\n",
    "\n",
    "data : Dict[key,value] = {\n",
    "    \"name\" : \"Muhammad Afzal\",\n",
    "    \"age\" :     26,\n",
    "    \"city\" : \"Nankana Sahib\",\n",
    "    \"country\" : \"Pakistan\",\n",
    "    \"hobbies\" : {\"reading\", \"writing\", \"coding\"},\n",
    "    \"education\" : \"Masters in Computer Science\"\n",
    "}\n",
    "\n",
    "print(\"before\",data)\n",
    "a : str = data.popitem()\n",
    "print(a)\n",
    "print(\"After\", data)\n"
   ]
  }
 ],
 "metadata": {
  "kernelspec": {
   "display_name": "Python 3",
   "language": "python",
   "name": "python3"
  },
  "language_info": {
   "codemirror_mode": {
    "name": "ipython",
    "version": 3
   },
   "file_extension": ".py",
   "mimetype": "text/x-python",
   "name": "python",
   "nbconvert_exporter": "python",
   "pygments_lexer": "ipython3",
   "version": "3.12.4"
  }
 },
 "nbformat": 4,
 "nbformat_minor": 2
}
