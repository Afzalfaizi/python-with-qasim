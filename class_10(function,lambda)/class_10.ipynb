{
 "cells": [
  {
   "cell_type": "markdown",
   "metadata": {},
   "source": [
    "# Function\n",
    "* pre-define function\n",
    "  * provided by in language\n",
    "* user-define function \n",
    "  * custom function\n",
    "* Return and None-return function\n",
    "  * Return\n",
    "    * we can assign this function output in any variable\n",
    "  * None-Return\n",
    "    * only run we can't assign value to variable\n",
    "  \n",
    "## components\n",
    "* function declaration\n",
    "* function body\n",
    "* function calling\n",
    "\n",
    "### Syntax function\n",
    "```\n",
    "def function_name(param1:type, param2:type,...)->Return_type:\n",
    "  function_body\n",
    "functino_name(arg1, arg2)\n",
    "```\n"
   ]
  },
  {
   "cell_type": "markdown",
   "metadata": {},
   "source": [
    "# Functions in Python\n",
    "Functions are a set of statements that perform a specific task.\n",
    "Functions help break our program into smaller and modular chunks.\n",
    "As our program grows larger and larger, functions make it more manageable, easier to maintain, and easier to reuse."
   ]
  },
  {
   "cell_type": "code",
   "execution_count": 10,
   "metadata": {},
   "outputs": [
    {
     "name": "stdout",
     "output_type": "stream",
     "text": [
      "My name is Muhammad Afzal\n"
     ]
    }
   ],
   "source": [
    "def myName():\n",
    "    print(\"My name is Muhammad Afzal\")\n",
    "myName()"
   ]
  }
 ],
 "metadata": {
  "kernelspec": {
   "display_name": ".venv",
   "language": "python",
   "name": "python3"
  },
  "language_info": {
   "codemirror_mode": {
    "name": "ipython",
    "version": 3
   },
   "file_extension": ".py",
   "mimetype": "text/x-python",
   "name": "python",
   "nbconvert_exporter": "python",
   "pygments_lexer": "ipython3",
   "version": "3.12.4"
  }
 },
 "nbformat": 4,
 "nbformat_minor": 2
}
