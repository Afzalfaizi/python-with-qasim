{
 "cells": [
  {
   "cell_type": "markdown",
   "metadata": {},
   "source": [
    "# Functions in Python\n",
    "Functions are a set of statements that perform a specific task.\n",
    "Functions help break our program into smaller and modular chunks.\n",
    "As our program grows larger and larger, functions make it more manageable, easier to maintain, and easier to reuse."
   ]
  }
 ],
 "metadata": {
  "language_info": {
   "name": "python"
  }
 },
 "nbformat": 4,
 "nbformat_minor": 2
}
