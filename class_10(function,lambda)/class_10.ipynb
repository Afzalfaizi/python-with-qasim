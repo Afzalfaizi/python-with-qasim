{
 "cells": [
  {
   "cell_type": "markdown",
   "metadata": {},
   "source": [
    "# Function\n",
    "* pre-define function\n",
    "  * provided by in language\n",
    "* user-define function \n",
    "  * custom function\n",
    "* Return and None-return function\n",
    "  * Return\n",
    "    * we can assign this function output in any variable\n",
    "  * None-Return\n",
    "    * only run we can't assign value to variable\n",
    "  \n",
    "## components\n",
    "* function declaration\n",
    "* function body\n",
    "* function calling\n",
    "\n",
    "### Syntax function\n",
    "```\n",
    "def function_name(param1:type, param2:type,...)->Return_type:\n",
    "  function_body\n",
    "functino_name(arg1, arg2)\n",
    "```\n",
    "### Syntax lambda function\n",
    "* one line function\n",
    "* without name\n",
    "* only use in this line\n",
    "```\n",
    "lambda param1, param2 : function_body\n",
    "\n",
    "``` \n"
   ]
  },
  {
   "cell_type": "markdown",
   "metadata": {},
   "source": [
    "# Functions in Python\n",
    "Functions are a set of statements that perform a specific task.\n",
    "Functions help break our program into smaller and modular chunks.\n",
    "As our program grows larger and larger, functions make it more manageable, easier to maintain, and easier to reuse."
   ]
  },
  {
   "cell_type": "markdown",
   "metadata": {},
   "source": [
    "## simple function without parameters"
   ]
  },
  {
   "cell_type": "code",
   "execution_count": 10,
   "metadata": {},
   "outputs": [
    {
     "name": "stdout",
     "output_type": "stream",
     "text": [
      "My name is Muhammad Afzal\n"
     ]
    }
   ],
   "source": [
    "def myName():\n",
    "    print(\"My name is Muhammad Afzal\")\n",
    "myName()"
   ]
  },
  {
   "cell_type": "markdown",
   "metadata": {},
   "source": [
    "## Required Parameters Function"
   ]
  },
  {
   "cell_type": "code",
   "execution_count": 1,
   "metadata": {},
   "outputs": [
    {
     "data": {
      "text/plain": [
       "38"
      ]
     },
     "execution_count": 1,
     "metadata": {},
     "output_type": "execute_result"
    }
   ],
   "source": [
    "\n",
    "def add_two_numbers(num1:int, num2:int)->int:\n",
    "    return num1 + num2\n",
    "\n",
    "add_two_numbers(20,18)"
   ]
  },
  {
   "cell_type": "markdown",
   "metadata": {},
   "source": [
    "## Function with optional Parameters\n"
   ]
  },
  {
   "cell_type": "code",
   "execution_count": 12,
   "metadata": {},
   "outputs": [
    {
     "name": "stdout",
     "output_type": "stream",
     "text": [
      "7 2\n"
     ]
    },
    {
     "data": {
      "text/plain": [
       "9"
      ]
     },
     "execution_count": 12,
     "metadata": {},
     "output_type": "execute_result"
    }
   ],
   "source": [
    "def add_two_numbers(num1 : int, num2 : int = 0)-> int:\n",
    "    print(num1, num2)\n",
    "    return num1 + num2\n",
    "add_two_numbers(7,2)"
   ]
  },
  {
   "cell_type": "markdown",
   "metadata": {},
   "source": [
    "# Lambda Function\n"
   ]
  },
  {
   "cell_type": "code",
   "execution_count": 2,
   "metadata": {},
   "outputs": [
    {
     "data": {
      "text/plain": [
       "15"
      ]
     },
     "execution_count": 2,
     "metadata": {},
     "output_type": "execute_result"
    }
   ],
   "source": [
    "a = lambda num1, num2 : num1 + num2\n",
    "a(8,7)  "
   ]
  },
  {
   "cell_type": "code",
   "execution_count": 3,
   "metadata": {},
   "outputs": [
    {
     "data": {
      "text/plain": [
       "[1, 4, 9, 16, 25, 36, 49, 64, 81, 100]"
      ]
     },
     "execution_count": 3,
     "metadata": {},
     "output_type": "execute_result"
    }
   ],
   "source": [
    "data : list[int] =  [1,2,3,4,5,6,7,8,9,10]\n",
    "\n",
    "data = list(map(lambda x:x**2, data))\n",
    "\n",
    "data    "
   ]
  }
 ],
 "metadata": {
  "kernelspec": {
   "display_name": ".venv",
   "language": "python",
   "name": "python3"
  },
  "language_info": {
   "codemirror_mode": {
    "name": "ipython",
    "version": 3
   },
   "file_extension": ".py",
   "mimetype": "text/x-python",
   "name": "python",
   "nbconvert_exporter": "python",
   "pygments_lexer": "ipython3",
   "version": "3.12.4"
  }
 },
 "nbformat": 4,
 "nbformat_minor": 2
}
