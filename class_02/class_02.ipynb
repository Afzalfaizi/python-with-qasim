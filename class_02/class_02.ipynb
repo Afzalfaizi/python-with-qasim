{
 "cells": [
  {
   "cell_type": "markdown",
   "metadata": {},
   "source": [
    "## Define multiline string \"\" \"\" \"\" triple line string\n"
   ]
  },
  {
   "cell_type": "code",
   "execution_count": 1,
   "metadata": {},
   "outputs": [
    {
     "name": "stdout",
     "output_type": "stream",
     "text": [
      "\n",
      "PIAIC Student Card\n",
      "Student Name : Muhammad Afzal\n",
      "First Name : Iqbal Yousaf\n",
      "Age : 26\n",
      "Education : Master of Computer Science and Engineering.\n",
      "Address : Chak No 5 Kalan G.B P/O same Tahsil & District Nankana Sahib\n",
      "\n",
      "\n"
     ]
    }
   ],
   "source": [
    "studentName : str = \"Muhammad Afzal\"\n",
    "fName : str = \"Iqbal Yousaf\"\n",
    "age : int = 26\n",
    "education : str = \"Master of Computer Science and Engineering.\"\n",
    "address : str = \"Chak No 5 Kalan G.B P/O same Tahsil & District Nankana Sahib\"\n",
    "\n",
    "card : str = f\"\"\"\n",
    "PIAIC Student Card\n",
    "Student Name : {studentName}\n",
    "First Name : {fName}\n",
    "Age : {age}\n",
    "Education : {education}\n",
    "Address : {address}\n",
    "\n",
    "\"\"\"\n",
    "print(card)"
   ]
  }
 ],
 "metadata": {
  "kernelspec": {
   "display_name": "myenv",
   "language": "python",
   "name": "python3"
  },
  "language_info": {
   "codemirror_mode": {
    "name": "ipython",
    "version": 3
   },
   "file_extension": ".py",
   "mimetype": "text/x-python",
   "name": "python",
   "nbconvert_exporter": "python",
   "pygments_lexer": "ipython3",
   "version": "3.12.0"
  }
 },
 "nbformat": 4,
 "nbformat_minor": 2
}
